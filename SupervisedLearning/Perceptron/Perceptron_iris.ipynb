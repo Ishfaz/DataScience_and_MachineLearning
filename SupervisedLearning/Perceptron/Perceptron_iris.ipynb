{
 "cells": [
  {
   "cell_type": "markdown",
   "metadata": {},
   "source": [
    "# The Perceptron Learning Algorithm"
   ]
  },
  {
   "cell_type": "markdown",
   "metadata": {},
   "source": [
    "Tingting Yang\n",
    "\n",
    "INDE 577 - Data Science and Machine Learning"
   ]
  },
  {
   "cell_type": "markdown",
   "metadata": {},
   "source": [
    "## Iris Species Binary Classification\n",
    "\n",
    "In this notebook we implement the *perceptron learning algorithm* for binary species classification using the [iris dataset](https://en.wikipedia.org/wiki/Iris_flower_data_set).\n",
    "\n",
    "### Task\n",
    "\n",
    "Our task will be to classify setosa and versicolor species using two feature measures, such as sepal length and sepal width.\n",
    "\n",
    "In order to do this, I need the following libraries:\n",
    "\n",
    "* [matplotlib](http://metplotlib.org)\n",
    "* [pandas](http://pandas.pydata.org)\n",
    "* [numpy](https://numpy.org/doc/stable/index.html)"
   ]
  },
  {
   "cell_type": "code",
   "execution_count": 1,
   "metadata": {},
   "outputs": [],
   "source": [
    "# import the necessaty libraries\n",
    "import matplotlib.pyplot as plt\n",
    "import pandas as pd\n",
    "import numpy as np\n",
    "\n",
    "# import datasets from sklearn which contains the iris data\n",
    "from sklearn import datasets"
   ]
  },
  {
   "cell_type": "markdown",
   "metadata": {},
   "source": [
    "### Data Exploration"
   ]
  },
  {
   "cell_type": "code",
   "execution_count": 5,
   "metadata": {},
   "outputs": [],
   "source": [
    "# load the iris data (specifying type as data frames)\n",
    "iris = datasets.load_iris(as_frame=True)"
   ]
  },
  {
   "cell_type": "markdown",
   "metadata": {},
   "source": [
    "\n",
    "The iris dataset have 150 obeservations with the following variables:\n",
    "* sepal length in cm\n",
    "* sepal width in cm\n",
    "* petal length in cm\n",
    "* petal width in cm\n",
    "* target:\n",
    "    - Iris Setosa (marked as \"0\")\n",
    "    - Iris Versicolour (marked as \"1\")\n",
    "    - Iris Virginica (marked as \"2\")\n",
    "\n",
    "Given sepal width and sepal length, we want to predict \"1\" or \"-1\", corresponding to setosa and versicolor, respectively.\n",
    "\n",
    "And thus, we need to extract the variables we need and convert them to numpy arrays.\n"
   ]
  },
  {
   "cell_type": "code",
   "execution_count": 6,
   "metadata": {},
   "outputs": [],
   "source": [
    "# Species to desired label dictionary\n",
    "label_dict = {iris['target_names'][0] : 1.0, iris['target_names'][1] : -1.0}\n",
    "\n",
    "# Extract out desired features from iris\n",
    "X = iris['data'][['sepal length (cm)', 'sepal width (cm)']].iloc[:100]\n",
    "\n",
    "# Covert features to numpy array, give explaination of the features here!\n",
    "X = X.to_numpy()\n",
    "\n",
    "# Extract out labels\n",
    "y = iris['target'].iloc[:100]\n",
    "\n",
    "# Convert labels to numpy array\n",
    "y = y.to_numpy()\n",
    "\n",
    "# Change labels to match our desired 1 or -1 labels\n",
    "for i, label in enumerate(y):\n",
    "    if label == 0.0:\n",
    "        y[i] = 1.0\n",
    "    elif label == 1.0:\n",
    "        y[i] = -1.0"
   ]
  },
  {
   "cell_type": "markdown",
   "metadata": {},
   "source": [
    "Then we need to build \n",
    "\n",
    "$$\\bar X^i=\\begin{bmatrix}\n",
    "X^i_1\\\\ \n",
    "\\vdots\\\\ \n",
    "X^i_n \\\\ \n",
    "1.0\n",
    "\\end{bmatrix}$$\n",
    "\n",
    "The bias term ($1.0$) should be added to the previous X array."
   ]
  },
  {
   "cell_type": "code",
   "execution_count": 13,
   "metadata": {},
   "outputs": [
    {
     "data": {
      "text/plain": [
       "array([[5.1, 3.5, 1. ],\n",
       "       [4.9, 3. , 1. ],\n",
       "       [4.7, 3.2, 1. ],\n",
       "       [4.6, 3.1, 1. ],\n",
       "       [5. , 3.6, 1. ]])"
      ]
     },
     "execution_count": 13,
     "metadata": {},
     "output_type": "execute_result"
    }
   ],
   "source": [
    "# Build the desired X_bar, add ones to the previous X array\n",
    "X_bar = []\n",
    "for x in X:\n",
    "    X_bar.append(np.append(x, np.ones(1)))\n",
    "X_bar = np.array(X_bar)\n",
    "X_bar[:5]"
   ]
  },
  {
   "cell_type": "code",
   "execution_count": 25,
   "metadata": {},
   "outputs": [
    {
     "data": {
      "text/plain": [
       "array([1, 1, 1, 1, 1, 1, 1, 1, 1, 1, 1, 1, 1, 1, 1, 1, 1, 1, 1, 1, 1, 1,\n",
       "       1, 1, 1, 1, 1, 1, 1, 1, 1, 1, 1, 1, 1, 1, 1, 1, 1, 1, 1, 1, 1, 1,\n",
       "       1, 1, 1, 1, 1, 1])"
      ]
     },
     "execution_count": 25,
     "metadata": {},
     "output_type": "execute_result"
    }
   ],
   "source": [
    "y[0:50]"
   ]
  },
  {
   "cell_type": "code",
   "execution_count": 24,
   "metadata": {},
   "outputs": [
    {
     "data": {
      "text/plain": [
       "array([-1, -1, -1, -1, -1, -1, -1, -1, -1, -1, -1, -1, -1, -1, -1, -1, -1,\n",
       "       -1, -1, -1, -1, -1, -1, -1, -1, -1, -1, -1, -1, -1, -1, -1, -1, -1,\n",
       "       -1, -1, -1, -1, -1, -1, -1, -1, -1, -1, -1, -1, -1, -1, -1, -1])"
      ]
     },
     "execution_count": 24,
     "metadata": {},
     "output_type": "execute_result"
    }
   ],
   "source": [
    "y[50:100]"
   ]
  },
  {
   "cell_type": "markdown",
   "metadata": {},
   "source": [
    "After exploring the dataset, we found that the first 50 data points are all setosa, while the last 50 data points are versicolor.\n",
    "\n",
    "\n",
    "---\n",
    "### Visualization of Data\n",
    "\n",
    "To have an overall impression of the data, we plot a scatterplot.\n"
   ]
  },
  {
   "cell_type": "code",
   "execution_count": 26,
   "metadata": {},
   "outputs": [
    {
     "data": {
      "text/plain": [
       "Text(0.5, 1.0, 'Iris Data Plot')"
      ]
     },
     "execution_count": 26,
     "metadata": {},
     "output_type": "execute_result"
    },
    {
     "data": {
      "image/png": "[encoded data removed]",
      "text/plain": [
       "<Figure size 864x576 with 1 Axes>"
      ]
     },
     "metadata": {
      "needs_background": "light"
     },
     "output_type": "display_data"
    }
   ],
   "source": [
    "plt.figure(figsize = (12, 8))\n",
    "\n",
    "# The first 50 data points are setosa\n",
    "plt.scatter(X_bar[:50, 0],\n",
    "            X_bar[:50, 1],\n",
    "            label = 'setosa', \n",
    "            color = 'r')\n",
    "\n",
    "# The last 50 data points are versicolor\n",
    "plt.scatter(X_bar[50:, 0],\n",
    "            X_bar[50:, 1], \n",
    "            label = 'versicolor', \n",
    "            color = 'b')\n",
    "\n",
    "plt.xlabel('Sepal length (cm)')\n",
    "plt.ylabel('Sepal width (cm)')\n",
    "plt.legend()\n",
    "plt.title(\"Iris Data Plot\")"
   ]
  },
  {
   "cell_type": "markdown",
   "metadata": {},
   "source": [
    "From the scatterplot above, the two species are separated well given sepal length and sepal width.\n",
    "\n",
    "---\n",
    "\n",
    "### Build the Algorithm\n",
    "\n",
    "First, to define the activation function. We use sign function as the activation function. \n",
    "\n",
    "$$\\hat y^i=sign(w^T \\bar X^i)=\\left\\{\\begin{matrix}\n",
    "1, \\space\\space w^T\\bar X^i>0\\\\ \n",
    "-1,\\space\\space w^T\\bar X^i<0\n",
    "\\end{matrix}\\right.$$"
   ]
  },
  {
   "cell_type": "code",
   "execution_count": 28,
   "metadata": {},
   "outputs": [],
   "source": [
    "# Define sign function\n",
    "def sign(x, y):\n",
    "    # the input vectors here should be numpy arrays\n",
    "    if x @ y > 0 :\n",
    "        return 1.0\n",
    "    else:\n",
    "        return -1.0"
   ]
  },
  {
   "cell_type": "markdown",
   "metadata": {},
   "source": [
    "Secondly, to define the loss function.\n",
    "\n",
    "$$L(w, \\bar X^i)=\\frac{1}{2}\\sum_{i=1}^n(\\hat y^i-y^i)^2 = \\frac{1}{2}\\sum_{i=1}^n\\left (sign(w^T \\bar X^i)-y^i\\right)^2$$"
   ]
  },
  {
   "cell_type": "code",
   "execution_count": 27,
   "metadata": {},
   "outputs": [],
   "source": [
    "# Define the loss function\n",
    "def L(w, features = X_bar, labels = y):\n",
    "    return sum(.5*(sign(w, x) - labels[i])**2 for i, x in enumerate(features))    "
   ]
  },
  {
   "cell_type": "markdown",
   "metadata": {},
   "source": [
    "To define the approximate gradient:\n",
    "\n",
    "\n",
    "#### The Gradient Approximation Update Rule\n",
    "\n",
    "For the loss function, we cannot get a derivation of the sign function, and thus, we define an approximation of the gradient.\n",
    "\n",
    "The **approximate** gradient of the loss function is\n",
    "\n",
    "$$\\triangledown L(w, \\bar X^i)=\\left (sign(w^T \\bar X^i)-y^i\\right)\\bar X_i$$\n"
   ]
  },
  {
   "cell_type": "code",
   "execution_count": 29,
   "metadata": {},
   "outputs": [],
   "source": [
    "# Define the approximate gradient\n",
    "def grad_approx(w, x, y):\n",
    "    return (sign(w, x) - y)*x"
   ]
  },
  {
   "cell_type": "markdown",
   "metadata": {},
   "source": [
    "### Run the algorithm\n",
    "\n",
    "Set the epochs and the learning rate, and randomly initiate the weights:"
   ]
  },
  {
   "cell_type": "code",
   "execution_count": 49,
   "metadata": {},
   "outputs": [],
   "source": [
    "# Set epochs\n",
    "epochs = 1000\n",
    "\n",
    "# Set the learning rate\n",
    "alpha = .5\n",
    "\n",
    "# Randomize intial weights\n",
    "w = np.random.rand(3)"
   ]
  },
  {
   "cell_type": "code",
   "execution_count": 50,
   "metadata": {},
   "outputs": [
    {
     "name": "stdout",
     "output_type": "stream",
     "text": [
      "The Loss before implementing stochastic approx gradient descent = 100.0\n"
     ]
    }
   ],
   "source": [
    "# Check the loss before implementing\n",
    "print(f\"The Loss before implementing stochastic approx gradient descent = {L(w)}\")"
   ]
  },
  {
   "cell_type": "markdown",
   "metadata": {},
   "source": [
    "To update the weights,\n",
    "\n",
    "$$w_{n+1}=w_n - \\alpha \\triangledown L(w, \\bar X^i)$$\n",
    "where $\\alpha$ is the learning rate.\n",
    "\n",
    "In the meantime, We also calculate the loss for every epoch.\n"
   ]
  },
  {
   "cell_type": "code",
   "execution_count": 51,
   "metadata": {},
   "outputs": [],
   "source": [
    "losses = []\n",
    "for _ in range(epochs):\n",
    "    for _ in range(70):\n",
    "        # Randomly pickup an index of sample\n",
    "        random_index = np.random.randint(100)\n",
    "        # Update the weights\n",
    "        w = w - alpha*grad_approx(w, X_bar[random_index], y[random_index])\n",
    "    # Calculate loss for every epoch\n",
    "    losses.append(L(w))"
   ]
  },
  {
   "cell_type": "code",
   "execution_count": 52,
   "metadata": {},
   "outputs": [
    {
     "data": {
      "text/plain": [
       "Text(0.5, 1.0, 'Loss for Every Epoch')"
      ]
     },
     "execution_count": 52,
     "metadata": {},
     "output_type": "execute_result"
    },
    {
     "data": {
      "image/png": "[encoded data removed]",
      "text/plain": [
       "<Figure size 432x288 with 1 Axes>"
      ]
     },
     "metadata": {
      "needs_background": "light"
     },
     "output_type": "display_data"
    }
   ],
   "source": [
    "# Plot the loss for every epoch\n",
    "plt.plot(losses)\n",
    "plt.xlabel(\"Epochs\")\n",
    "plt.ylabel(\"Loss\")\n",
    "plt.title(\"Loss for Every Epoch\")"
   ]
  },
  {
   "cell_type": "markdown",
   "metadata": {},
   "source": [
    "From the plot of the loss for every epoch, the loss converge at around 750 epoch.\n",
    "\n",
    "Finally, we can calculate the linear line to separate the two species regarding to sepal length and sepal width."
   ]
  },
  {
   "cell_type": "code",
   "execution_count": 53,
   "metadata": {},
   "outputs": [
    {
     "data": {
      "text/plain": [
       "Text(0.5, 1.0, 'Iris Data Plot')"
      ]
     },
     "execution_count": 53,
     "metadata": {},
     "output_type": "execute_result"
    },
    {
     "data": {
      "image/png": "[encoded data removed]",
      "text/plain": [
       "<Figure size 864x576 with 1 Axes>"
      ]
     },
     "metadata": {
      "needs_background": "light"
     },
     "output_type": "display_data"
    }
   ],
   "source": [
    "# Define the predicted line\n",
    "domain = np.arange(3.5, 7.5, .5)\n",
    "line = [(w[0]*x + w[2])/-w[1] for x in domain]\n",
    "\n",
    "# The first 50 data points are setosa\n",
    "plt.figure(figsize = (12, 8))\n",
    "plt.scatter(X_bar[:50, 0],\n",
    "            X_bar[:50, 1],\n",
    "            label = 'setosa', \n",
    "            color = 'r')\n",
    "\n",
    "# The last 50 data points are versicolor\n",
    "plt.scatter(X_bar[50:, 0],\n",
    "            X_bar[50:, 1], \n",
    "            label = 'versicolor', \n",
    "            color = 'b')\n",
    "\n",
    "# Plot the predicted line\n",
    "plt.plot(domain,\n",
    "         line,\n",
    "         label = 'seperator',\n",
    "         color = 'orange')\n",
    "\n",
    "plt.xlabel('Sepal length (cm)')\n",
    "plt.ylabel('Sepal width (cm)')\n",
    "plt.legend()\n",
    "plt.title(\"Iris Data Plot\")"
   ]
  },
  {
   "cell_type": "markdown",
   "metadata": {},
   "source": [
    "We can find that the predicted line separate the two sepecies very well, suggesting that our algorithm works well!"
   ]
  }
 ],
 "metadata": {
  "kernelspec": {
   "display_name": "Python 3",
   "language": "python",
   "name": "python3"
  },
  "language_info": {
   "codemirror_mode": {
    "name": "ipython",
    "version": 3
   },
   "file_extension": ".py",
   "mimetype": "text/x-python",
   "name": "python",
   "nbconvert_exporter": "python",
   "pygments_lexer": "ipython3",
   "version": "3.8.5"
  }
 },
 "nbformat": 4,
 "nbformat_minor": 4
}
