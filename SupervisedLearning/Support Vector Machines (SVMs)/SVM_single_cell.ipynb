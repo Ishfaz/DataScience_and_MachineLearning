{
 "cells": [
  {
   "cell_type": "markdown",
   "metadata": {},
   "source": [
    "# Support Vector Machines (SVMs)"
   ]
  },
  {
   "cell_type": "markdown",
   "metadata": {},
   "source": [
    "Tingting Yang\n",
    "\n",
    "INDE 577 - Data Science and Machine Learning"
   ]
  },
  {
   "cell_type": "markdown",
   "metadata": {},
   "source": [
    "In this notebook, I will use this algorithm to train a classifier to automatically annotate single-cell RNA-seq data. The training data is an expert-annotated dataset. \n",
    "\n",
    "The Processed 3k PBMCs Dataset consists of 3k PBMCs from a Healthy Donor and are freely available from 10x Genomics.\n",
    "\n",
    "In order to do this, I need the following libraries:\n",
    "\n",
    "* [matplotlib](http://metplotlib.org)\n",
    "* [pandas](http://pandas.pydata.org)\n",
    "* [numpy](https://numpy.org/doc/stable/index.html)\n",
    "* [seaborn](https://seaborn.pydata.org/)\n",
    "* [scanpy](https://scanpy.readthedocs.io/en/stable/)\n",
    "* [train_test_split](https://scikit-learn.org/stable/modules/generated/sklearn.model_selection.train_test_split.html?highlight=train_test_split#sklearn.model_selection.train_test_split) in [sklearn.model_selection](https://scikit-learn.org/stable/modules/classes.html#module-sklearn.model_selection)\n",
    "* [LinearSVC](https://scikit-learn.org/stable/modules/generated/sklearn.svm.LinearSVC.html) and [SVC](https://scikit-learn.org/stable/modules/generated/sklearn.svm.SVC.html?highlight=svc#sklearn.svm.SVC) in [sklearn.svm](https://scikit-learn.org/stable/modules/classes.html#module-sklearn.svm)\n",
    "* [CalibratedClassifierCV](https://scikit-learn.org/stable/modules/generated/sklearn.calibration.CalibratedClassifierCV.html?highlight=calibratedclassifiercv#sklearn.calibration.CalibratedClassifierCV) in [sklearn.calibration](https://scikit-learn.org/stable/modules/classes.html#module-sklearn.calibration)\n",
    "* [confusion_matrix](https://scikit-learn.org/stable/modules/generated/sklearn.metrics.confusion_matrix.html?highlight=confusion_matrix#sklearn.metrics.confusion_matrix) in [sklearn.metrics](https://scikit-learn.org/stable/modules/classes.html#module-sklearn.metrics)\n",
    "* [StandardScaler](https://scikit-learn.org/stable/modules/generated/sklearn.preprocessing.StandardScaler.html?highlight=standardscaler#sklearn.preprocessing.StandardScaler) in [sklearn.preprocessing](https://scikit-learn.org/stable/modules/classes.html#module-sklearn.preprocessing)\n",
    "* [scipy.sparse.linalg](https://docs.scipy.org/doc/scipy/reference/sparse.linalg.html)\n",
    "\n",
    "The [Processed 3k PBMCs](https://scanpy.readthedocs.io/en/stable/generated/scanpy.datasets.pbmc3k_processed.html) Dataset is loaded from [scanpy.datasets](https://scanpy.readthedocs.io/en/stable/api.html#module-scanpy.datasets)."
   ]
  },
  {
   "cell_type": "code",
   "execution_count": 1,
   "metadata": {},
   "outputs": [],
   "source": [
    "# Import necessary libraries\n",
    "import matplotlib.pyplot as plt\n",
    "import numpy as np\n",
    "import pandas as pd\n",
    "import seaborn as sns\n",
    "import scanpy as sc\n",
    "from sklearn.model_selection import train_test_split\n",
    "from sklearn.svm import LinearSVC\n",
    "from sklearn.svm import SVC\n",
    "from sklearn.calibration import CalibratedClassifierCV\n",
    "from sklearn.metrics import confusion_matrix\n",
    "from sklearn.preprocessing import StandardScaler\n",
    "import scipy.sparse.linalg"
   ]
  },
  {
   "cell_type": "markdown",
   "metadata": {},
   "source": [
    "### Data Exploration\n",
    "\n",
    "I use a public dataset implemented in the scanpy package (the most popular single-cell framework in python). This dataset contains over 2000 human peripheral blood mononuclear cells."
   ]
  },
  {
   "cell_type": "code",
   "execution_count": 2,
   "metadata": {},
   "outputs": [],
   "source": [
    "adata = sc.datasets.pbmc3k_processed().raw.to_adata()"
   ]
  },
  {
   "cell_type": "code",
   "execution_count": 3,
   "metadata": {
    "scrolled": true
   },
   "outputs": [
    {
     "name": "stdout",
     "output_type": "stream",
     "text": [
      "AnnData object with n_obs × n_vars = 2638 × 13714\n",
      "    obs: 'n_genes', 'percent_mito', 'n_counts', 'louvain'\n",
      "    var: 'n_cells'\n",
      "    uns: 'draw_graph', 'louvain', 'louvain_colors', 'neighbors', 'pca', 'rank_genes_groups'\n",
      "    obsm: 'X_pca', 'X_tsne', 'X_umap', 'X_draw_graph_fr'\n"
     ]
    }
   ],
   "source": [
    "# print to see the data structure\n",
    "print(adata)"
   ]
  },
  {
   "cell_type": "markdown",
   "metadata": {},
   "source": [
    "Let's take a look at meta data for the observes (cells).\n",
    "The louvain column is the cell annotation (expert annotated from louvain clustering results)."
   ]
  },
  {
   "cell_type": "code",
   "execution_count": 4,
   "metadata": {
    "scrolled": true
   },
   "outputs": [
    {
     "data": {
      "text/html": [
       "<div>\n",
       "<style scoped>\n",
       "    .dataframe tbody tr th:only-of-type {\n",
       "        vertical-align: middle;\n",
       "    }\n",
       "\n",
       "    .dataframe tbody tr th {\n",
       "        vertical-align: top;\n",
       "    }\n",
       "\n",
       "    .dataframe thead th {\n",
       "        text-align: right;\n",
       "    }\n",
       "</style>\n",
       "<table border=\"1\" class=\"dataframe\">\n",
       "  <thead>\n",
       "    <tr style=\"text-align: right;\">\n",
       "      <th></th>\n",
       "      <th>n_genes</th>\n",
       "      <th>percent_mito</th>\n",
       "      <th>n_counts</th>\n",
       "      <th>louvain</th>\n",
       "    </tr>\n",
       "    <tr>\n",
       "      <th>index</th>\n",
       "      <th></th>\n",
       "      <th></th>\n",
       "      <th></th>\n",
       "      <th></th>\n",
       "    </tr>\n",
       "  </thead>\n",
       "  <tbody>\n",
       "    <tr>\n",
       "      <th>AAACATACAACCAC-1</th>\n",
       "      <td>781</td>\n",
       "      <td>0.030178</td>\n",
       "      <td>2419.0</td>\n",
       "      <td>CD4 T cells</td>\n",
       "    </tr>\n",
       "    <tr>\n",
       "      <th>AAACATTGAGCTAC-1</th>\n",
       "      <td>1352</td>\n",
       "      <td>0.037936</td>\n",
       "      <td>4903.0</td>\n",
       "      <td>B cells</td>\n",
       "    </tr>\n",
       "    <tr>\n",
       "      <th>AAACATTGATCAGC-1</th>\n",
       "      <td>1131</td>\n",
       "      <td>0.008897</td>\n",
       "      <td>3147.0</td>\n",
       "      <td>CD4 T cells</td>\n",
       "    </tr>\n",
       "    <tr>\n",
       "      <th>AAACCGTGCTTCCG-1</th>\n",
       "      <td>960</td>\n",
       "      <td>0.017431</td>\n",
       "      <td>2639.0</td>\n",
       "      <td>CD14+ Monocytes</td>\n",
       "    </tr>\n",
       "    <tr>\n",
       "      <th>AAACCGTGTATGCG-1</th>\n",
       "      <td>522</td>\n",
       "      <td>0.012245</td>\n",
       "      <td>980.0</td>\n",
       "      <td>NK cells</td>\n",
       "    </tr>\n",
       "    <tr>\n",
       "      <th>...</th>\n",
       "      <td>...</td>\n",
       "      <td>...</td>\n",
       "      <td>...</td>\n",
       "      <td>...</td>\n",
       "    </tr>\n",
       "    <tr>\n",
       "      <th>TTTCGAACTCTCAT-1</th>\n",
       "      <td>1155</td>\n",
       "      <td>0.021104</td>\n",
       "      <td>3459.0</td>\n",
       "      <td>CD14+ Monocytes</td>\n",
       "    </tr>\n",
       "    <tr>\n",
       "      <th>TTTCTACTGAGGCA-1</th>\n",
       "      <td>1227</td>\n",
       "      <td>0.009294</td>\n",
       "      <td>3443.0</td>\n",
       "      <td>B cells</td>\n",
       "    </tr>\n",
       "    <tr>\n",
       "      <th>TTTCTACTTCCTCG-1</th>\n",
       "      <td>622</td>\n",
       "      <td>0.021971</td>\n",
       "      <td>1684.0</td>\n",
       "      <td>B cells</td>\n",
       "    </tr>\n",
       "    <tr>\n",
       "      <th>TTTGCATGAGAGGC-1</th>\n",
       "      <td>454</td>\n",
       "      <td>0.020548</td>\n",
       "      <td>1022.0</td>\n",
       "      <td>B cells</td>\n",
       "    </tr>\n",
       "    <tr>\n",
       "      <th>TTTGCATGCCTCAC-1</th>\n",
       "      <td>724</td>\n",
       "      <td>0.008065</td>\n",
       "      <td>1984.0</td>\n",
       "      <td>CD4 T cells</td>\n",
       "    </tr>\n",
       "  </tbody>\n",
       "</table>\n",
       "<p>2638 rows × 4 columns</p>\n",
       "</div>"
      ],
      "text/plain": [
       "                  n_genes  percent_mito  n_counts          louvain\n",
       "index                                                             \n",
       "AAACATACAACCAC-1      781      0.030178    2419.0      CD4 T cells\n",
       "AAACATTGAGCTAC-1     1352      0.037936    4903.0          B cells\n",
       "AAACATTGATCAGC-1     1131      0.008897    3147.0      CD4 T cells\n",
       "AAACCGTGCTTCCG-1      960      0.017431    2639.0  CD14+ Monocytes\n",
       "AAACCGTGTATGCG-1      522      0.012245     980.0         NK cells\n",
       "...                   ...           ...       ...              ...\n",
       "TTTCGAACTCTCAT-1     1155      0.021104    3459.0  CD14+ Monocytes\n",
       "TTTCTACTGAGGCA-1     1227      0.009294    3443.0          B cells\n",
       "TTTCTACTTCCTCG-1      622      0.021971    1684.0          B cells\n",
       "TTTGCATGAGAGGC-1      454      0.020548    1022.0          B cells\n",
       "TTTGCATGCCTCAC-1      724      0.008065    1984.0      CD4 T cells\n",
       "\n",
       "[2638 rows x 4 columns]"
      ]
     },
     "execution_count": 4,
     "metadata": {},
     "output_type": "execute_result"
    }
   ],
   "source": [
    "adata.obs"
   ]
  },
  {
   "cell_type": "markdown",
   "metadata": {},
   "source": [
    "We want to build an SVM classifier to automatically annotate cells. Single-cell data is sparse and has many features (usually 10-20k), so we need to do dimensional reductions first (PCA).\n",
    "We also want to perform PCA with a relatively small set of genes, e.g. 2000.\n",
    "Here, we use the built-in function of scanpy to compute top_n variable genes"
   ]
  },
  {
   "cell_type": "code",
   "execution_count": 5,
   "metadata": {},
   "outputs": [],
   "source": [
    "sc.pp.highly_variable_genes(adata, flavor=\"cell_ranger\", n_top_genes=2000)\n",
    "# We then only focus on these 2000 features (genes)\n",
    "adata = adata[:, adata.var.highly_variable]"
   ]
  },
  {
   "cell_type": "code",
   "execution_count": 6,
   "metadata": {},
   "outputs": [],
   "source": [
    "# Get the predictors (genes here; we will then do PCA)\n",
    "X = adata.X\n",
    "# The targets\n",
    "Y = adata.obs['louvain']\n",
    "Y.to_numpy()\n",
    "# Split the training and testing set\n",
    "X_train,X_val,y_train,y_val = train_test_split(X,Y,test_size=0.3, stratify=Y)"
   ]
  },
  {
   "cell_type": "markdown",
   "metadata": {},
   "source": [
    "### Algorithm Implementation"
   ]
  },
  {
   "cell_type": "code",
   "execution_count": 7,
   "metadata": {},
   "outputs": [],
   "source": [
    "# define a pca function\n",
    "# pca for sparse matrix; modified from https://gist.github.com/julienr/8096321\n",
    "def pca_sparse(X, npc):\n",
    "    n_samples, n_features = X.shape\n",
    "    Xmean = np.mean(X, axis=0)\n",
    "    U, s, Vt = scipy.sparse.linalg.svds(X - Xmean, k=npc)\n",
    "    order = np.argsort(-s) # sort s in descending order\n",
    "\n",
    "    # svds returns U, s, Vt sorder in ascending order. We want descending\n",
    "    s = s[order]\n",
    "    W = Vt[order,:]\n",
    "    U = U[:, order]\n",
    "\n",
    "    explained_variance = (s**2) / float(n_samples)\n",
    "    exp_var_ratio = explained_variance / explained_variance.sum()\n",
    "\n",
    "    return U, s, W, exp_var_ratio"
   ]
  },
  {
   "cell_type": "code",
   "execution_count": 8,
   "metadata": {},
   "outputs": [],
   "source": [
    "# do PCA with 50 dims\n",
    "p = pca_sparse(X=X_train, npc=50)\n",
    "# \n",
    "V = p[2].T\n",
    "Us = np.matmul(p[0], np.diag(p[1]))\n",
    "exp_var_thresh = 0.01\n",
    "Us_sig = Us[:, p[3] > exp_var_thresh]"
   ]
  },
  {
   "cell_type": "code",
   "execution_count": 9,
   "metadata": {},
   "outputs": [
    {
     "name": "stdout",
     "output_type": "stream",
     "text": [
      "(1846, 8)\n",
      "(2000, 50)\n"
     ]
    }
   ],
   "source": [
    "# check dimensions of Us_sig and V matrices; here we see top 8 dimensions can explain over 99% of variance\n",
    "print(Us_sig.shape)\n",
    "print(V.shape)"
   ]
  },
  {
   "cell_type": "code",
   "execution_count": 10,
   "metadata": {},
   "outputs": [],
   "source": [
    "# project X_val to the same space\n",
    "# get projection matrix\n",
    "V_sig = V[:, p[3] > exp_var_thresh]\n",
    "# center X_val\n",
    "X_val_mean = np.mean(X_val, axis=0)\n",
    "X_val_c = X_val - X_val_mean\n",
    "# projection\n",
    "X_val_p = np.matmul(X_val_c, V_sig)"
   ]
  },
  {
   "cell_type": "code",
   "execution_count": 11,
   "metadata": {},
   "outputs": [
    {
     "data": {
      "text/plain": [
       "CalibratedClassifierCV(base_estimator=SVC())"
      ]
     },
     "execution_count": 11,
     "metadata": {},
     "output_type": "execute_result"
    }
   ],
   "source": [
    "# train\n",
    "Classifier = SVC(kernel='rbf',gamma='scale',decision_function_shape='ovr')\n",
    "clf = CalibratedClassifierCV(Classifier)\n",
    "clf.fit(Us_sig, y_train)"
   ]
  },
  {
   "cell_type": "code",
   "execution_count": 12,
   "metadata": {},
   "outputs": [],
   "source": [
    "# predict\n",
    "predicted = clf.predict(X_val_p)\n",
    "# compute probability\n",
    "prob = np.max(clf.predict_proba(X_val_p), axis = 1)\n",
    "# label the cells with ambiguous prediction as 'Unknown'\n",
    "# ambiguous means its max prediction probability is less than a threshold; used 0.5 here\n",
    "unlabeled = np.where(prob < 0.5)\n",
    "predicted[unlabeled] = 'Unknown'"
   ]
  },
  {
   "cell_type": "markdown",
   "metadata": {},
   "source": [
    "### Build the confusion matrix"
   ]
  },
  {
   "cell_type": "code",
   "execution_count": 13,
   "metadata": {},
   "outputs": [],
   "source": [
    "x_actu = pd.Series(y_val.to_numpy(), name='Actual')\n",
    "x_pred = pd.Series(predicted, name='Predicted')\n",
    "df_confusion = pd.crosstab(x_actu, x_pred)"
   ]
  },
  {
   "cell_type": "markdown",
   "metadata": {},
   "source": [
    "### Visualization"
   ]
  },
  {
   "cell_type": "code",
   "execution_count": 14,
   "metadata": {},
   "outputs": [
    {
     "data": {
      "text/plain": [
       "<AxesSubplot:xlabel='Predicted', ylabel='Actual'>"
      ]
     },
     "execution_count": 14,
     "metadata": {},
     "output_type": "execute_result"
    },
    {
     "data": {
      "image/png": "[encoded data removed]",
      "text/plain": [
       "<Figure size 720x504 with 2 Axes>"
      ]
     },
     "metadata": {
      "needs_background": "light"
     },
     "output_type": "display_data"
    }
   ],
   "source": [
    "plt.figure(figsize = (10,7))\n",
    "sns.set(font_scale=1.4)\n",
    "sns.heatmap(df_confusion.div(df_confusion.sum(axis=1), axis=0), cmap=\"Blues\", annot=True,annot_kws={\"size\": 10})"
   ]
  }
 ],
 "metadata": {
  "kernelspec": {
   "display_name": "Python 3",
   "language": "python",
   "name": "python3"
  },
  "language_info": {
   "codemirror_mode": {
    "name": "ipython",
    "version": 3
   },
   "file_extension": ".py",
   "mimetype": "text/x-python",
   "name": "python",
   "nbconvert_exporter": "python",
   "pygments_lexer": "ipython3",
   "version": "3.8.5"
  }
 },
 "nbformat": 4,
 "nbformat_minor": 5
}
