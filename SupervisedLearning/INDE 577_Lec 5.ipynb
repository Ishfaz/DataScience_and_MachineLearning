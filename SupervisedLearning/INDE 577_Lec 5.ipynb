{
 "cells": [
  {
   "cell_type": "markdown",
   "metadata": {},
   "source": [
    "# The Perceptron"
   ]
  },
  {
   "cell_type": "markdown",
   "metadata": {},
   "source": [
    "TT\n",
    "#### First Neural Network! (back to 1950's)\n",
    "* inspired by actual neurons\n",
    "* artificial neuron\n",
    "\n",
    "#### Supervised learning\n",
    "* Classification\n",
    "\n",
    "Ex. irisdata: classify setosa versus virginica using sepal length and sepal width\n",
    "    * Given\\[sepal width, sepal length\\], we want to predict 1 or -1, corresponding to the correct species.\n",
    "    \n",
    "Check the notes on iPad."
   ]
  },
  {
   "cell_type": "markdown",
   "metadata": {},
   "source": [
    "---\n",
    "# The Perceptron Learning Algorithm\n",
    "## Iris Species Binary Classification\n",
    "\n",
    "In this notebook we implement the *perceptron learning algorithm* for binary species classification using the [iris dataset](http://en,wikepedia.org/wiki/Iris_flower_data_set).\n",
    "\n",
    "The perceptron was first implemented by...(give the description of algo here!)\n",
    "\n",
    "### Task\n",
    "\n",
    "Our task will be to classify setosa and versicolor species using two feature measures, such as sepal length and sepal width. In order to do this we will need the following libraries:\n",
    "\n",
    "* [matplotlib](http://metplotlib.org)\n",
    "* [pandas](http://pandas.pydata.org)\n",
    "\n",
    "... (add the others here!)\n",
    "\n",
    "---"
   ]
  },
  {
   "cell_type": "code",
   "execution_count": 4,
   "metadata": {},
   "outputs": [],
   "source": [
    "# import the necessaty libraries\n",
    "import matplotlib.pyplot as plt\n",
    "import pandas as pd\n",
    "import numpy as np\n",
    "\n",
    "# import datasets from sklearn which contains the iris data\n",
    "from sklearn import datasets\n",
    "\n",
    "# load the iris data (specifying type as data frames)\n",
    "iris = datasets.load_iris(as_frame=True)"
   ]
  },
  {
   "cell_type": "markdown",
   "metadata": {},
   "source": [
    "---\n",
    "\n",
    "Describe what the object iris is and tell the reader how to extract useful information for our task\n",
    "\n",
    "\n",
    "In the following code cell we extract our data to numpy arrays.\n",
    "\n",
    "---"
   ]
  },
  {
   "cell_type": "code",
   "execution_count": 12,
   "metadata": {},
   "outputs": [
    {
     "data": {
      "text/plain": [
       "dict_keys(['data', 'target', 'frame', 'target_names', 'DESCR', 'feature_names', 'filename'])"
      ]
     },
     "execution_count": 12,
     "metadata": {},
     "output_type": "execute_result"
    }
   ],
   "source": [
    "# TT\n",
    "iris\n",
    "iris.keys()"
   ]
  },
  {
   "cell_type": "code",
   "execution_count": 18,
   "metadata": {},
   "outputs": [],
   "source": [
    "# Species to desired label dictionary\n",
    "label_dict = {iris['target_names'][0] : 1.0, iris['target_names'][1] : -1.0}\n",
    "\n",
    "# Extract out desired features from iris\n",
    "X = iris['data'][['sepal length (cm)', 'sepal width (cm)']].iloc[:100]\n",
    "\n",
    "# Covert features to numpy array, give explaination of the features here!\n",
    "X = X.to_numpy()\n",
    "\n",
    "# Extract out labels\n",
    "y = iris['target'].iloc[:100]\n",
    "\n",
    "# Convert labels to numpy array\n",
    "y = y.to_numpy()\n",
    "\n",
    "# Change labels to match our desired 1 or -1 labels\n",
    "for i, label in enumerate(y):\n",
    "    if label == 0.0:\n",
    "        y[i] = 1.0\n",
    "    elif label == 1.0:\n",
    "        y[i] = -1.0"
   ]
  },
  {
   "cell_type": "code",
   "execution_count": 29,
   "metadata": {},
   "outputs": [
    {
     "data": {
      "text/plain": [
       "array([[5.1, 3.5, 1. ],\n",
       "       [4.9, 3. , 1. ],\n",
       "       [4.7, 3.2, 1. ],\n",
       "       [4.6, 3.1, 1. ],\n",
       "       [5. , 3.6, 1. ],\n",
       "       [5.4, 3.9, 1. ],\n",
       "       [4.6, 3.4, 1. ],\n",
       "       [5. , 3.4, 1. ],\n",
       "       [4.4, 2.9, 1. ],\n",
       "       [4.9, 3.1, 1. ],\n",
       "       [5.4, 3.7, 1. ],\n",
       "       [4.8, 3.4, 1. ],\n",
       "       [4.8, 3. , 1. ],\n",
       "       [4.3, 3. , 1. ],\n",
       "       [5.8, 4. , 1. ],\n",
       "       [5.7, 4.4, 1. ],\n",
       "       [5.4, 3.9, 1. ],\n",
       "       [5.1, 3.5, 1. ],\n",
       "       [5.7, 3.8, 1. ],\n",
       "       [5.1, 3.8, 1. ],\n",
       "       [5.4, 3.4, 1. ],\n",
       "       [5.1, 3.7, 1. ],\n",
       "       [4.6, 3.6, 1. ],\n",
       "       [5.1, 3.3, 1. ],\n",
       "       [4.8, 3.4, 1. ],\n",
       "       [5. , 3. , 1. ],\n",
       "       [5. , 3.4, 1. ],\n",
       "       [5.2, 3.5, 1. ],\n",
       "       [5.2, 3.4, 1. ],\n",
       "       [4.7, 3.2, 1. ],\n",
       "       [4.8, 3.1, 1. ],\n",
       "       [5.4, 3.4, 1. ],\n",
       "       [5.2, 4.1, 1. ],\n",
       "       [5.5, 4.2, 1. ],\n",
       "       [4.9, 3.1, 1. ],\n",
       "       [5. , 3.2, 1. ],\n",
       "       [5.5, 3.5, 1. ],\n",
       "       [4.9, 3.6, 1. ],\n",
       "       [4.4, 3. , 1. ],\n",
       "       [5.1, 3.4, 1. ],\n",
       "       [5. , 3.5, 1. ],\n",
       "       [4.5, 2.3, 1. ],\n",
       "       [4.4, 3.2, 1. ],\n",
       "       [5. , 3.5, 1. ],\n",
       "       [5.1, 3.8, 1. ],\n",
       "       [4.8, 3. , 1. ],\n",
       "       [5.1, 3.8, 1. ],\n",
       "       [4.6, 3.2, 1. ],\n",
       "       [5.3, 3.7, 1. ],\n",
       "       [5. , 3.3, 1. ],\n",
       "       [7. , 3.2, 1. ],\n",
       "       [6.4, 3.2, 1. ],\n",
       "       [6.9, 3.1, 1. ],\n",
       "       [5.5, 2.3, 1. ],\n",
       "       [6.5, 2.8, 1. ],\n",
       "       [5.7, 2.8, 1. ],\n",
       "       [6.3, 3.3, 1. ],\n",
       "       [4.9, 2.4, 1. ],\n",
       "       [6.6, 2.9, 1. ],\n",
       "       [5.2, 2.7, 1. ],\n",
       "       [5. , 2. , 1. ],\n",
       "       [5.9, 3. , 1. ],\n",
       "       [6. , 2.2, 1. ],\n",
       "       [6.1, 2.9, 1. ],\n",
       "       [5.6, 2.9, 1. ],\n",
       "       [6.7, 3.1, 1. ],\n",
       "       [5.6, 3. , 1. ],\n",
       "       [5.8, 2.7, 1. ],\n",
       "       [6.2, 2.2, 1. ],\n",
       "       [5.6, 2.5, 1. ],\n",
       "       [5.9, 3.2, 1. ],\n",
       "       [6.1, 2.8, 1. ],\n",
       "       [6.3, 2.5, 1. ],\n",
       "       [6.1, 2.8, 1. ],\n",
       "       [6.4, 2.9, 1. ],\n",
       "       [6.6, 3. , 1. ],\n",
       "       [6.8, 2.8, 1. ],\n",
       "       [6.7, 3. , 1. ],\n",
       "       [6. , 2.9, 1. ],\n",
       "       [5.7, 2.6, 1. ],\n",
       "       [5.5, 2.4, 1. ],\n",
       "       [5.5, 2.4, 1. ],\n",
       "       [5.8, 2.7, 1. ],\n",
       "       [6. , 2.7, 1. ],\n",
       "       [5.4, 3. , 1. ],\n",
       "       [6. , 3.4, 1. ],\n",
       "       [6.7, 3.1, 1. ],\n",
       "       [6.3, 2.3, 1. ],\n",
       "       [5.6, 3. , 1. ],\n",
       "       [5.5, 2.5, 1. ],\n",
       "       [5.5, 2.6, 1. ],\n",
       "       [6.1, 3. , 1. ],\n",
       "       [5.8, 2.6, 1. ],\n",
       "       [5. , 2.3, 1. ],\n",
       "       [5.6, 2.7, 1. ],\n",
       "       [5.7, 3. , 1. ],\n",
       "       [5.7, 2.9, 1. ],\n",
       "       [6.2, 2.9, 1. ],\n",
       "       [5.1, 2.5, 1. ],\n",
       "       [5.7, 2.8, 1. ]])"
      ]
     },
     "execution_count": 29,
     "metadata": {},
     "output_type": "execute_result"
    }
   ],
   "source": [
    "# Below we hack away and make our desired X_bar, there should be a better way to append 1 vector here!\n",
    "X_bar = []\n",
    "for x in X:\n",
    "    X_bar.append(np.append(x, np.ones(1)))\n",
    "X_bar = np.array(X_bar)\n",
    "X_bar"
   ]
  },
  {
   "cell_type": "markdown",
   "metadata": {},
   "source": [
    "---\n",
    "\n",
    "### Visualization of Data\n",
    "\n",
    "Explain why visualization is import and maybe discuss how in the below figure we can clearly see a seperating line...\n",
    "\n",
    "---"
   ]
  },
  {
   "cell_type": "code",
   "execution_count": 31,
   "metadata": {},
   "outputs": [
    {
     "data": {
      "text/plain": [
       "Text(0.5, 1.0, 'Iris Data Plot')"
      ]
     },
     "execution_count": 31,
     "metadata": {},
     "output_type": "execute_result"
    },
    {
     "data": {
      "image/png": "[encoded data removed]",
      "text/plain": [
       "<Figure size 864x576 with 1 Axes>"
      ]
     },
     "metadata": {
      "needs_background": "light"
     },
     "output_type": "display_data"
    }
   ],
   "source": [
    "plt.figure(figsize = (12, 8))\n",
    "plt.scatter(X_bar[:50, 0],\n",
    "            X_bar[:50, 1],\n",
    "            label = 'setosa', \n",
    "            color = 'r')\n",
    "\n",
    "plt.scatter(X_bar[50:, 0],\n",
    "            X_bar[50:, 1], \n",
    "            label = 'versicolor', \n",
    "            color = 'b')\n",
    "\n",
    "plt.xlabel('Sepal length (cm)')\n",
    "plt.ylabel('Sepal width (cm)')\n",
    "plt.legend()\n",
    "plt.title(\"Iris Data Plot\")"
   ]
  },
  {
   "cell_type": "markdown",
   "metadata": {},
   "source": [
    "---\n",
    "\n",
    "Insert hear a image of the perceptron drawn sa a neuron...\n",
    "\n",
    "How the algorithm works...\n",
    "\n",
    "(LaTex code here)\n",
    "\n",
    "$\n",
    "\\hat y^i = \\text{sign}(w^T\\bar x^i)\n",
    "$\n",
    "\n",
    "We obviously need our activation function, the sign function, so we define this function in the following code cell.\n",
    "\n",
    "---"
   ]
  },
  {
   "cell_type": "code",
   "execution_count": 34,
   "metadata": {},
   "outputs": [],
   "source": [
    "def sign(x, y):\n",
    "    # the input vectors here should be numpy arrays\n",
    "    if x @ y > 0 :\n",
    "        return 1.0\n",
    "    else:\n",
    "        return -1.0\n",
    "    \n",
    "def L(w, features = X_bar, labels = y):\n",
    "    return sum(.5*(sign(w, x) - labels[i])**2 for i, x in enumerate(features))    "
   ]
  },
  {
   "cell_type": "markdown",
   "metadata": {},
   "source": [
    "---\n",
    "\n",
    "### The Gradient Approximation Update Rule\n",
    "\n",
    "Explain why this rule works!\n",
    "\n",
    "$\n",
    "w \\rightarrow w - \\alpha (\\hat y^i - y^i) \\bar x^i\n",
    "$\n",
    "\n",
    "---"
   ]
  },
  {
   "cell_type": "code",
   "execution_count": 44,
   "metadata": {},
   "outputs": [],
   "source": [
    "def grad_approx(w, x, y):\n",
    "    return (sign(w, x) - y)*x\n",
    "\n",
    "# set epochs\n",
    "epochs = 1000\n",
    "\n",
    "# set alpha\n",
    "alpha = .5\n",
    "\n",
    "# random intial weights\n",
    "w = np.random.rand(3)"
   ]
  },
  {
   "cell_type": "code",
   "execution_count": 38,
   "metadata": {},
   "outputs": [
    {
     "name": "stdout",
     "output_type": "stream",
     "text": [
      "The Loss before implementing stochastic approx gradient descent = 100.0\n"
     ]
    }
   ],
   "source": [
    "# \n",
    "print(f\"The Loss before implementing stochastic approx gradient descent = {L(w)}\")"
   ]
  },
  {
   "cell_type": "code",
   "execution_count": 47,
   "metadata": {},
   "outputs": [],
   "source": [
    "losses = []\n",
    "for _ in range(epochs):\n",
    "    for _ in range(70):\n",
    "        random_index = np.random.randint(100)\n",
    "        w = w - alpha*grad_approx(w, X_bar[random_index], y[random_index])\n",
    "    losses.append(L(w))"
   ]
  },
  {
   "cell_type": "code",
   "execution_count": 48,
   "metadata": {},
   "outputs": [
    {
     "data": {
      "text/plain": [
       "[<matplotlib.lines.Line2D at 0x25599060a60>]"
      ]
     },
     "execution_count": 48,
     "metadata": {},
     "output_type": "execute_result"
    },
    {
     "data": {
      "image/png": "[encoded data removed]",
      "text/plain": [
       "<Figure size 432x288 with 1 Axes>"
      ]
     },
     "metadata": {
      "needs_background": "light"
     },
     "output_type": "display_data"
    }
   ],
   "source": [
    "plt.plot(losses)"
   ]
  },
  {
   "cell_type": "code",
   "execution_count": 50,
   "metadata": {},
   "outputs": [
    {
     "data": {
      "text/plain": [
       "Text(0.5, 1.0, 'Iris Data Plot')"
      ]
     },
     "execution_count": 50,
     "metadata": {},
     "output_type": "execute_result"
    },
    {
     "data": {
      "image/png": "[encoded data removed]",
      "text/plain": [
       "<Figure size 864x576 with 1 Axes>"
      ]
     },
     "metadata": {
      "needs_background": "light"
     },
     "output_type": "display_data"
    }
   ],
   "source": [
    "domain = np.arange(3.5, 7.5, .5)\n",
    "line = [(w[0]*x + w[2])/-w[1] for x in domain]\n",
    "\n",
    "plt.figure(figsize = (12, 8))\n",
    "plt.scatter(X_bar[:50, 0],\n",
    "            X_bar[:50, 1],\n",
    "            label = 'setosa', \n",
    "            color = 'r')\n",
    "\n",
    "plt.scatter(X_bar[50:, 0],\n",
    "            X_bar[50:, 1], \n",
    "            label = 'versicolor', \n",
    "            color = 'b')\n",
    "plt.plot(domain,\n",
    "        line,\n",
    "        label = 'seperator',\n",
    "        color = 'orange')\n",
    "\n",
    "plt.xlabel('Sepal length (cm)')\n",
    "plt.ylabel('Sepal width (cm)')\n",
    "plt.legend()\n",
    "plt.title(\"Iris Data Plot\")"
   ]
  },
  {
   "cell_type": "code",
   "execution_count": 40,
   "metadata": {},
   "outputs": [
    {
     "data": {
      "text/plain": [
       "81"
      ]
     },
     "execution_count": 40,
     "metadata": {},
     "output_type": "execute_result"
    }
   ],
   "source": [
    "np.random.randint(100)"
   ]
  },
  {
   "cell_type": "code",
   "execution_count": null,
   "metadata": {},
   "outputs": [],
   "source": []
  },
  {
   "cell_type": "code",
   "execution_count": 21,
   "metadata": {},
   "outputs": [
    {
     "data": {
      "text/plain": [
       "array([5.1, 3.5])"
      ]
     },
     "execution_count": 21,
     "metadata": {},
     "output_type": "execute_result"
    }
   ],
   "source": [
    "X[0]"
   ]
  },
  {
   "cell_type": "code",
   "execution_count": 8,
   "metadata": {},
   "outputs": [
    {
     "data": {
      "text/html": [
       "<div>\n",
       "<style scoped>\n",
       "    .dataframe tbody tr th:only-of-type {\n",
       "        vertical-align: middle;\n",
       "    }\n",
       "\n",
       "    .dataframe tbody tr th {\n",
       "        vertical-align: top;\n",
       "    }\n",
       "\n",
       "    .dataframe thead th {\n",
       "        text-align: right;\n",
       "    }\n",
       "</style>\n",
       "<table border=\"1\" class=\"dataframe\">\n",
       "  <thead>\n",
       "    <tr style=\"text-align: right;\">\n",
       "      <th></th>\n",
       "      <th>sepal length (cm)</th>\n",
       "      <th>sepal width (cm)</th>\n",
       "      <th>petal length (cm)</th>\n",
       "      <th>petal width (cm)</th>\n",
       "    </tr>\n",
       "  </thead>\n",
       "  <tbody>\n",
       "    <tr>\n",
       "      <th>0</th>\n",
       "      <td>5.1</td>\n",
       "      <td>3.5</td>\n",
       "      <td>1.4</td>\n",
       "      <td>0.2</td>\n",
       "    </tr>\n",
       "    <tr>\n",
       "      <th>1</th>\n",
       "      <td>4.9</td>\n",
       "      <td>3.0</td>\n",
       "      <td>1.4</td>\n",
       "      <td>0.2</td>\n",
       "    </tr>\n",
       "    <tr>\n",
       "      <th>2</th>\n",
       "      <td>4.7</td>\n",
       "      <td>3.2</td>\n",
       "      <td>1.3</td>\n",
       "      <td>0.2</td>\n",
       "    </tr>\n",
       "    <tr>\n",
       "      <th>3</th>\n",
       "      <td>4.6</td>\n",
       "      <td>3.1</td>\n",
       "      <td>1.5</td>\n",
       "      <td>0.2</td>\n",
       "    </tr>\n",
       "    <tr>\n",
       "      <th>4</th>\n",
       "      <td>5.0</td>\n",
       "      <td>3.6</td>\n",
       "      <td>1.4</td>\n",
       "      <td>0.2</td>\n",
       "    </tr>\n",
       "    <tr>\n",
       "      <th>...</th>\n",
       "      <td>...</td>\n",
       "      <td>...</td>\n",
       "      <td>...</td>\n",
       "      <td>...</td>\n",
       "    </tr>\n",
       "    <tr>\n",
       "      <th>145</th>\n",
       "      <td>6.7</td>\n",
       "      <td>3.0</td>\n",
       "      <td>5.2</td>\n",
       "      <td>2.3</td>\n",
       "    </tr>\n",
       "    <tr>\n",
       "      <th>146</th>\n",
       "      <td>6.3</td>\n",
       "      <td>2.5</td>\n",
       "      <td>5.0</td>\n",
       "      <td>1.9</td>\n",
       "    </tr>\n",
       "    <tr>\n",
       "      <th>147</th>\n",
       "      <td>6.5</td>\n",
       "      <td>3.0</td>\n",
       "      <td>5.2</td>\n",
       "      <td>2.0</td>\n",
       "    </tr>\n",
       "    <tr>\n",
       "      <th>148</th>\n",
       "      <td>6.2</td>\n",
       "      <td>3.4</td>\n",
       "      <td>5.4</td>\n",
       "      <td>2.3</td>\n",
       "    </tr>\n",
       "    <tr>\n",
       "      <th>149</th>\n",
       "      <td>5.9</td>\n",
       "      <td>3.0</td>\n",
       "      <td>5.1</td>\n",
       "      <td>1.8</td>\n",
       "    </tr>\n",
       "  </tbody>\n",
       "</table>\n",
       "<p>150 rows × 4 columns</p>\n",
       "</div>"
      ],
      "text/plain": [
       "     sepal length (cm)  sepal width (cm)  petal length (cm)  petal width (cm)\n",
       "0                  5.1               3.5                1.4               0.2\n",
       "1                  4.9               3.0                1.4               0.2\n",
       "2                  4.7               3.2                1.3               0.2\n",
       "3                  4.6               3.1                1.5               0.2\n",
       "4                  5.0               3.6                1.4               0.2\n",
       "..                 ...               ...                ...               ...\n",
       "145                6.7               3.0                5.2               2.3\n",
       "146                6.3               2.5                5.0               1.9\n",
       "147                6.5               3.0                5.2               2.0\n",
       "148                6.2               3.4                5.4               2.3\n",
       "149                5.9               3.0                5.1               1.8\n",
       "\n",
       "[150 rows x 4 columns]"
      ]
     },
     "execution_count": 8,
     "metadata": {},
     "output_type": "execute_result"
    }
   ],
   "source": [
    "iris['data']"
   ]
  },
  {
   "cell_type": "code",
   "execution_count": 11,
   "metadata": {},
   "outputs": [
    {
     "data": {
      "text/plain": [
       "0      0\n",
       "1      0\n",
       "2      0\n",
       "3      0\n",
       "4      0\n",
       "      ..\n",
       "145    2\n",
       "146    2\n",
       "147    2\n",
       "148    2\n",
       "149    2\n",
       "Name: target, Length: 150, dtype: int32"
      ]
     },
     "execution_count": 11,
     "metadata": {},
     "output_type": "execute_result"
    }
   ],
   "source": [
    "iris['target']"
   ]
  },
  {
   "cell_type": "code",
   "execution_count": 5,
   "metadata": {},
   "outputs": [
    {
     "ename": "NameError",
     "evalue": "name 'X' is not defined",
     "output_type": "error",
     "traceback": [
      "\u001b[1;31m---------------------------------------------------------------------------\u001b[0m",
      "\u001b[1;31mNameError\u001b[0m                                 Traceback (most recent call last)",
      "\u001b[1;32m<ipython-input-5-ee0f085b3d70>\u001b[0m in \u001b[0;36m<module>\u001b[1;34m\u001b[0m\n\u001b[1;32m----> 1\u001b[1;33m \u001b[0mX\u001b[0m\u001b[1;33m.\u001b[0m\u001b[0mto_numpy\u001b[0m\u001b[1;33m(\u001b[0m\u001b[1;33m)\u001b[0m\u001b[1;33m\u001b[0m\u001b[1;33m\u001b[0m\u001b[0m\n\u001b[0m",
      "\u001b[1;31mNameError\u001b[0m: name 'X' is not defined"
     ]
    }
   ],
   "source": [
    "X.to_numpy()"
   ]
  },
  {
   "cell_type": "code",
   "execution_count": null,
   "metadata": {},
   "outputs": [],
   "source": []
  }
 ],
 "metadata": {
  "kernelspec": {
   "display_name": "Python 3",
   "language": "python",
   "name": "python3"
  },
  "language_info": {
   "codemirror_mode": {
    "name": "ipython",
    "version": 3
   },
   "file_extension": ".py",
   "mimetype": "text/x-python",
   "name": "python",
   "nbconvert_exporter": "python",
   "pygments_lexer": "ipython3",
   "version": "3.8.5"
  }
 },
 "nbformat": 4,
 "nbformat_minor": 4
}
